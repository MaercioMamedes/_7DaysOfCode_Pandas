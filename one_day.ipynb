{
 "cells": [
  {
   "cell_type": "markdown",
   "id": "481e2546-164d-4635-8208-b0c0009e3d61",
   "metadata": {},
   "source": [
    "# Primeiro dia"
   ]
  },
  {
   "cell_type": "markdown",
   "id": "ca8decb6-2a39-4c32-a21d-583bb8717d04",
   "metadata": {},
   "source": [
    "- unificar em um único Dataframe todos os dados pertinentes para a análise\n",
    "- Limpar dados diplicados e nulos"
   ]
  },
  {
   "cell_type": "code",
   "execution_count": 1,
   "id": "e96ff47a-b25d-40cf-a3f4-403d839c22ab",
   "metadata": {},
   "outputs": [],
   "source": [
    "# imports\n",
    "\n",
    "import pandas as pd"
   ]
  },
  {
   "cell_type": "code",
   "execution_count": 3,
   "id": "36961d2c-0a47-4b8c-9946-501123469f8d",
   "metadata": {},
   "outputs": [],
   "source": [
    "# leitura dos dados\n",
    "\n",
    "tabela_1 = pd.read_csv(\"./datasets/dados_emprestimos/emprestimos-20101.csv\")\n",
    "tabela_2 = pd.read_csv(\"./datasets/dados_emprestimos/emprestimos-20102.csv\")\n",
    "tabela_3 = pd.read_csv(\"./datasets/dados_emprestimos/emprestimos-20111.csv\")\n",
    "tabela_4 = pd.read_csv(\"./datasets/dados_emprestimos/emprestimos-20112.csv\")\n",
    "tabela_5 = pd.read_csv(\"./datasets/dados_emprestimos/emprestimos-20121.csv\")\n",
    "tabela_6 = pd.read_csv(\"./datasets/dados_emprestimos/emprestimos-20122.csv\")\n",
    "tabela_7 = pd.read_csv(\"./datasets/dados_emprestimos/emprestimos-20131.csv\")\n",
    "tabela_8 = pd.read_csv(\"./datasets/dados_emprestimos/emprestimos-20132.csv\")\n",
    "tabela_9 = pd.read_csv(\"./datasets/dados_emprestimos/emprestimos-20141.csv\")\n",
    "tabela_10 = pd.read_csv(\"./datasets/dados_emprestimos/emprestimos-20142.csv\")\n",
    "tabela_11 = pd.read_csv(\"./datasets/dados_emprestimos/emprestimos-20151.csv\")\n",
    "tabela_12 = pd.read_csv(\"./datasets/dados_emprestimos/emprestimos-20152.csv\")\n",
    "tabela_13 = pd.read_csv(\"./datasets/dados_emprestimos/emprestimos-20161.csv\")\n",
    "tabela_14 = pd.read_csv(\"./datasets/dados_emprestimos/emprestimos-20162.csv\")\n",
    "tabela_15 = pd.read_csv(\"./datasets/dados_emprestimos/emprestimos-20171.csv\")\n",
    "tabela_16 = pd.read_csv(\"./datasets/dados_emprestimos/emprestimos-20172.csv\")\n",
    "tabela_17 = pd.read_csv(\"./datasets/dados_emprestimos/emprestimos-20181.csv\")\n",
    "tabela_18 = pd.read_csv(\"./datasets/dados_emprestimos/emprestimos-20182.csv\")\n",
    "tabela_19 = pd.read_csv(\"./datasets/dados_emprestimos/emprestimos-20191.csv\")\n",
    "tabela_20 = pd.read_csv(\"./datasets/dados_emprestimos/emprestimos-20192.csv\")\n",
    "tabela_21 = pd.read_csv(\"./datasets/dados_emprestimos/emprestimos-20201.csv\")"
   ]
  },
  {
   "cell_type": "code",
   "execution_count": 4,
   "id": "69ad867d-78c0-4138-947b-4ffd104beaaa",
   "metadata": {},
   "outputs": [],
   "source": [
    "lista_tabelas = [\n",
    "    tabela_1,\n",
    "    tabela_2,\n",
    "    tabela_3,\n",
    "    tabela_4,\n",
    "    tabela_5,\n",
    "    tabela_6,\n",
    "    tabela_7,\n",
    "    tabela_8,\n",
    "    tabela_9,\n",
    "    tabela_10,\n",
    "    tabela_11,\n",
    "    tabela_12,\n",
    "    tabela_13,\n",
    "    tabela_14,\n",
    "    tabela_15,\n",
    "    tabela_16,\n",
    "    tabela_17,\n",
    "    tabela_18,\n",
    "    tabela_19,\n",
    "    tabela_20,\n",
    "    tabela_21,\n",
    "]"
   ]
  },
  {
   "cell_type": "code",
   "execution_count": 6,
   "id": "f2194027-b892-411c-8553-5b0af3385894",
   "metadata": {},
   "outputs": [],
   "source": [
    "dados = pd.concat(lista_tabelas, ignore_index=True)"
   ]
  },
  {
   "cell_type": "code",
   "execution_count": 7,
   "id": "2b133635-f7f2-43e7-9d90-7c88f99de92b",
   "metadata": {},
   "outputs": [
    {
     "data": {
      "text/html": [
       "<div>\n",
       "<style scoped>\n",
       "    .dataframe tbody tr th:only-of-type {\n",
       "        vertical-align: middle;\n",
       "    }\n",
       "\n",
       "    .dataframe tbody tr th {\n",
       "        vertical-align: top;\n",
       "    }\n",
       "\n",
       "    .dataframe thead th {\n",
       "        text-align: right;\n",
       "    }\n",
       "</style>\n",
       "<table border=\"1\" class=\"dataframe\">\n",
       "  <thead>\n",
       "    <tr style=\"text-align: right;\">\n",
       "      <th></th>\n",
       "      <th>id_emprestimo</th>\n",
       "      <th>codigo_barras</th>\n",
       "      <th>data_renovacao</th>\n",
       "      <th>data_emprestimo</th>\n",
       "      <th>data_devolucao</th>\n",
       "      <th>matricula_ou_siape</th>\n",
       "      <th>tipo_vinculo_usuario</th>\n",
       "    </tr>\n",
       "  </thead>\n",
       "  <tbody>\n",
       "    <tr>\n",
       "      <th>0</th>\n",
       "      <td>709684</td>\n",
       "      <td>L095049</td>\n",
       "      <td>NaN</td>\n",
       "      <td>2010/01/04 07:44:10.721000000</td>\n",
       "      <td>2010/01/05 16:26:12.662000000</td>\n",
       "      <td>2.008023e+09</td>\n",
       "      <td>ALUNO DE GRADUAÇÃO</td>\n",
       "    </tr>\n",
       "    <tr>\n",
       "      <th>1</th>\n",
       "      <td>709685</td>\n",
       "      <td>L167050</td>\n",
       "      <td>NaN</td>\n",
       "      <td>2010/01/04 07:44:10.750000000</td>\n",
       "      <td>2010/01/12 07:34:13.934000000</td>\n",
       "      <td>2.008023e+09</td>\n",
       "      <td>ALUNO DE GRADUAÇÃO</td>\n",
       "    </tr>\n",
       "    <tr>\n",
       "      <th>2</th>\n",
       "      <td>709686</td>\n",
       "      <td>2006017618</td>\n",
       "      <td>2010/01/26 08:07:01.738000000</td>\n",
       "      <td>2010/01/04 08:08:44.081000000</td>\n",
       "      <td>2010/02/25 07:36:25.800000000</td>\n",
       "      <td>2.008112e+09</td>\n",
       "      <td>ALUNO DE PÓS-GRADUAÇÃO</td>\n",
       "    </tr>\n",
       "    <tr>\n",
       "      <th>3</th>\n",
       "      <td>709687</td>\n",
       "      <td>L184117</td>\n",
       "      <td>2010/01/18 11:07:46.470000000</td>\n",
       "      <td>2010/01/04 08:24:21.284000000</td>\n",
       "      <td>2010/02/03 08:58:45.692000000</td>\n",
       "      <td>2.007211e+08</td>\n",
       "      <td>ALUNO DE GRADUAÇÃO</td>\n",
       "    </tr>\n",
       "    <tr>\n",
       "      <th>4</th>\n",
       "      <td>709684</td>\n",
       "      <td>L095049</td>\n",
       "      <td>NaN</td>\n",
       "      <td>2010/01/04 07:44:10.721000000</td>\n",
       "      <td>2010/01/05 16:26:12.662000000</td>\n",
       "      <td>2.008023e+09</td>\n",
       "      <td>ALUNO DE GRADUAÇÃO</td>\n",
       "    </tr>\n",
       "    <tr>\n",
       "      <th>...</th>\n",
       "      <td>...</td>\n",
       "      <td>...</td>\n",
       "      <td>...</td>\n",
       "      <td>...</td>\n",
       "      <td>...</td>\n",
       "      <td>...</td>\n",
       "      <td>...</td>\n",
       "    </tr>\n",
       "    <tr>\n",
       "      <th>2258013</th>\n",
       "      <td>2989086</td>\n",
       "      <td>2008047044</td>\n",
       "      <td>NaN</td>\n",
       "      <td>2020/05/05 19:51:06.059000000</td>\n",
       "      <td>2021/05/13 14:53:31.000000000</td>\n",
       "      <td>3.067431e+06</td>\n",
       "      <td>SERVIDOR TÉCNICO-ADMINISTRATIVO</td>\n",
       "    </tr>\n",
       "    <tr>\n",
       "      <th>2258014</th>\n",
       "      <td>2989087</td>\n",
       "      <td>2008047047</td>\n",
       "      <td>NaN</td>\n",
       "      <td>2020/05/05 19:51:06.135000000</td>\n",
       "      <td>2021/05/13 14:53:38.000000000</td>\n",
       "      <td>3.067431e+06</td>\n",
       "      <td>SERVIDOR TÉCNICO-ADMINISTRATIVO</td>\n",
       "    </tr>\n",
       "    <tr>\n",
       "      <th>2258015</th>\n",
       "      <td>2989088</td>\n",
       "      <td>2010052905</td>\n",
       "      <td>NaN</td>\n",
       "      <td>2020/05/05 19:51:06.164000000</td>\n",
       "      <td>2021/05/13 15:01:46.000000000</td>\n",
       "      <td>3.067431e+06</td>\n",
       "      <td>SERVIDOR TÉCNICO-ADMINISTRATIVO</td>\n",
       "    </tr>\n",
       "    <tr>\n",
       "      <th>2258016</th>\n",
       "      <td>2989089</td>\n",
       "      <td>2010048023</td>\n",
       "      <td>NaN</td>\n",
       "      <td>2020/06/09 11:54:02.669000000</td>\n",
       "      <td>2021/07/21 15:33:55.000000000</td>\n",
       "      <td>2.020101e+10</td>\n",
       "      <td>ALUNO DE PÓS-GRADUAÇÃO</td>\n",
       "    </tr>\n",
       "    <tr>\n",
       "      <th>2258017</th>\n",
       "      <td>2989090</td>\n",
       "      <td>2013106838</td>\n",
       "      <td>NaN</td>\n",
       "      <td>2020/06/09 11:54:02.852000000</td>\n",
       "      <td>2021/07/21 15:33:45.000000000</td>\n",
       "      <td>2.020101e+10</td>\n",
       "      <td>ALUNO DE PÓS-GRADUAÇÃO</td>\n",
       "    </tr>\n",
       "  </tbody>\n",
       "</table>\n",
       "<p>2258018 rows × 7 columns</p>\n",
       "</div>"
      ],
      "text/plain": [
       "         id_emprestimo codigo_barras                 data_renovacao  \\\n",
       "0               709684       L095049                            NaN   \n",
       "1               709685       L167050                            NaN   \n",
       "2               709686    2006017618  2010/01/26 08:07:01.738000000   \n",
       "3               709687       L184117  2010/01/18 11:07:46.470000000   \n",
       "4               709684       L095049                            NaN   \n",
       "...                ...           ...                            ...   \n",
       "2258013        2989086    2008047044                            NaN   \n",
       "2258014        2989087    2008047047                            NaN   \n",
       "2258015        2989088    2010052905                            NaN   \n",
       "2258016        2989089    2010048023                            NaN   \n",
       "2258017        2989090    2013106838                            NaN   \n",
       "\n",
       "                       data_emprestimo                 data_devolucao  \\\n",
       "0        2010/01/04 07:44:10.721000000  2010/01/05 16:26:12.662000000   \n",
       "1        2010/01/04 07:44:10.750000000  2010/01/12 07:34:13.934000000   \n",
       "2        2010/01/04 08:08:44.081000000  2010/02/25 07:36:25.800000000   \n",
       "3        2010/01/04 08:24:21.284000000  2010/02/03 08:58:45.692000000   \n",
       "4        2010/01/04 07:44:10.721000000  2010/01/05 16:26:12.662000000   \n",
       "...                                ...                            ...   \n",
       "2258013  2020/05/05 19:51:06.059000000  2021/05/13 14:53:31.000000000   \n",
       "2258014  2020/05/05 19:51:06.135000000  2021/05/13 14:53:38.000000000   \n",
       "2258015  2020/05/05 19:51:06.164000000  2021/05/13 15:01:46.000000000   \n",
       "2258016  2020/06/09 11:54:02.669000000  2021/07/21 15:33:55.000000000   \n",
       "2258017  2020/06/09 11:54:02.852000000  2021/07/21 15:33:45.000000000   \n",
       "\n",
       "         matricula_ou_siape             tipo_vinculo_usuario  \n",
       "0              2.008023e+09               ALUNO DE GRADUAÇÃO  \n",
       "1              2.008023e+09               ALUNO DE GRADUAÇÃO  \n",
       "2              2.008112e+09           ALUNO DE PÓS-GRADUAÇÃO  \n",
       "3              2.007211e+08               ALUNO DE GRADUAÇÃO  \n",
       "4              2.008023e+09               ALUNO DE GRADUAÇÃO  \n",
       "...                     ...                              ...  \n",
       "2258013        3.067431e+06  SERVIDOR TÉCNICO-ADMINISTRATIVO  \n",
       "2258014        3.067431e+06  SERVIDOR TÉCNICO-ADMINISTRATIVO  \n",
       "2258015        3.067431e+06  SERVIDOR TÉCNICO-ADMINISTRATIVO  \n",
       "2258016        2.020101e+10           ALUNO DE PÓS-GRADUAÇÃO  \n",
       "2258017        2.020101e+10           ALUNO DE PÓS-GRADUAÇÃO  \n",
       "\n",
       "[2258018 rows x 7 columns]"
      ]
     },
     "execution_count": 7,
     "metadata": {},
     "output_type": "execute_result"
    }
   ],
   "source": [
    "dados"
   ]
  },
  {
   "cell_type": "code",
   "execution_count": 11,
   "id": "81e20d47-5091-4734-8e21-380ba5d796fd",
   "metadata": {},
   "outputs": [
    {
     "data": {
      "text/plain": [
       "array([ 709684,  709685,  709686,  709687,  709698,  709704,  709705,\n",
       "       2351375, 2351376, 2351377, 2351385, 2351386, 2351387, 2351388,\n",
       "       2351389, 2351390, 2351391, 2351392, 2461092, 2461093, 2461094,\n",
       "       2461095, 2461096, 2461097, 2461098, 2461099], dtype=int64)"
      ]
     },
     "execution_count": 11,
     "metadata": {},
     "output_type": "execute_result"
    }
   ],
   "source": [
    "dados['id_emprestimo'][dados['id_emprestimo'].duplicated()].unique()"
   ]
  },
  {
   "cell_type": "code",
   "execution_count": 12,
   "id": "e3684cfc-3ab2-433e-9fc3-c89f7ad0d443",
   "metadata": {},
   "outputs": [
    {
     "data": {
      "text/plain": [
       "0"
      ]
     },
     "execution_count": 12,
     "metadata": {},
     "output_type": "execute_result"
    }
   ],
   "source": [
    "dados['id_emprestimo'].isnull().sum()"
   ]
  },
  {
   "cell_type": "code",
   "execution_count": null,
   "id": "47a200ed-f334-4a6e-b0dd-053faf068b29",
   "metadata": {},
   "outputs": [],
   "source": []
  }
 ],
 "metadata": {
  "kernelspec": {
   "display_name": "Python 3 (ipykernel)",
   "language": "python",
   "name": "python3"
  },
  "language_info": {
   "codemirror_mode": {
    "name": "ipython",
    "version": 3
   },
   "file_extension": ".py",
   "mimetype": "text/x-python",
   "name": "python",
   "nbconvert_exporter": "python",
   "pygments_lexer": "ipython3",
   "version": "3.11.7"
  }
 },
 "nbformat": 4,
 "nbformat_minor": 5
}
